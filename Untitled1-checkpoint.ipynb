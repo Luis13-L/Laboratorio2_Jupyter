{
 "cells": [
  {
   "cell_type": "markdown",
   "id": "6dc85f43",
   "metadata": {},
   "source": [
    "# Regresión Lineal simple ejercicio 3"
   ]
  },
  {
   "cell_type": "code",
   "execution_count": 1,
   "id": "1b7c0d3e",
   "metadata": {},
   "outputs": [],
   "source": [
    "import pandas as pd\n",
    "import numpy as np"
   ]
  },
  {
   "cell_type": "code",
   "execution_count": 57,
   "id": "ffcc88a0",
   "metadata": {},
   "outputs": [],
   "source": [
    "path=\"C:/Users/usuario/Downloads\"\n",
    "file=\"Ejercicio/base3.csv\"\n",
    "data = pd.read_csv(path+\"/\"+file)"
   ]
  },
  {
   "cell_type": "code",
   "execution_count": 58,
   "id": "e1d5c5e0",
   "metadata": {},
   "outputs": [
    {
     "data": {
      "text/html": [
       "<div>\n",
       "<style scoped>\n",
       "    .dataframe tbody tr th:only-of-type {\n",
       "        vertical-align: middle;\n",
       "    }\n",
       "\n",
       "    .dataframe tbody tr th {\n",
       "        vertical-align: top;\n",
       "    }\n",
       "\n",
       "    .dataframe thead th {\n",
       "        text-align: right;\n",
       "    }\n",
       "</style>\n",
       "<table border=\"1\" class=\"dataframe\">\n",
       "  <thead>\n",
       "    <tr style=\"text-align: right;\">\n",
       "      <th></th>\n",
       "      <th>semana</th>\n",
       "      <th>horas</th>\n",
       "      <th>ganan</th>\n",
       "    </tr>\n",
       "  </thead>\n",
       "  <tbody>\n",
       "    <tr>\n",
       "      <th>0</th>\n",
       "      <td>1</td>\n",
       "      <td>20</td>\n",
       "      <td>300000</td>\n",
       "    </tr>\n",
       "  </tbody>\n",
       "</table>\n",
       "</div>"
      ],
      "text/plain": [
       "   semana  horas   ganan\n",
       "0       1     20  300000"
      ]
     },
     "execution_count": 58,
     "metadata": {},
     "output_type": "execute_result"
    }
   ],
   "source": [
    "data.head(1)"
   ]
  },
  {
   "cell_type": "code",
   "execution_count": 59,
   "id": "d74b9f60",
   "metadata": {},
   "outputs": [],
   "source": [
    "import statsmodels.formula.api as smf"
   ]
  },
  {
   "cell_type": "code",
   "execution_count": 60,
   "id": "99bebcf1",
   "metadata": {},
   "outputs": [],
   "source": [
    "ml = smf.ols(formula=\"ganan~horas\", data=data).fit()"
   ]
  },
  {
   "cell_type": "code",
   "execution_count": 61,
   "id": "44b60dba",
   "metadata": {},
   "outputs": [
    {
     "data": {
      "text/plain": [
       "Intercept    28098.256735\n",
       "horas         9540.412044\n",
       "dtype: float64"
      ]
     },
     "execution_count": 61,
     "metadata": {},
     "output_type": "execute_result"
    }
   ],
   "source": [
    "ml.params"
   ]
  },
  {
   "cell_type": "markdown",
   "id": "ad4b665a",
   "metadata": {},
   "source": [
    "* ganan = 28098.256735 + 9540.412044*horas\n",
    "* Y= a+b*x"
   ]
  },
  {
   "cell_type": "code",
   "execution_count": 62,
   "id": "3716f308",
   "metadata": {},
   "outputs": [
    {
     "name": "stdout",
     "output_type": "stream",
     "text": [
      "El modelo tiene una presición de: 37.54%\n"
     ]
    }
   ],
   "source": [
    "validacion = ml.rsquared_adj\n",
    "print(\"El modelo tiene una presición de: \"+str(round(validacion*100,2))+\"%\")"
   ]
  },
  {
   "cell_type": "code",
   "execution_count": 63,
   "id": "7e959c17",
   "metadata": {},
   "outputs": [
    {
     "data": {
      "text/plain": [
       "Intercept    0.850934\n",
       "horas        0.115963\n",
       "dtype: float64"
      ]
     },
     "execution_count": 63,
     "metadata": {},
     "output_type": "execute_result"
    }
   ],
   "source": [
    "ml.pvalues"
   ]
  },
  {
   "cell_type": "code",
   "execution_count": 65,
   "id": "ef06f6f8",
   "metadata": {},
   "outputs": [
    {
     "name": "stderr",
     "output_type": "stream",
     "text": [
      "C:\\Users\\usuario\\anaconda3\\lib\\site-packages\\statsmodels\\stats\\stattools.py:74: ValueWarning: omni_normtest is not valid with less than 8 observations; 6 samples were given.\n",
      "  warn(\"omni_normtest is not valid with less than 8 observations; %i \"\n"
     ]
    },
    {
     "data": {
      "text/html": [
       "<table class=\"simpletable\">\n",
       "<caption>OLS Regression Results</caption>\n",
       "<tr>\n",
       "  <th>Dep. Variable:</th>          <td>ganan</td>      <th>  R-squared:         </th> <td>   0.500</td>\n",
       "</tr>\n",
       "<tr>\n",
       "  <th>Model:</th>                   <td>OLS</td>       <th>  Adj. R-squared:    </th> <td>   0.375</td>\n",
       "</tr>\n",
       "<tr>\n",
       "  <th>Method:</th>             <td>Least Squares</td>  <th>  F-statistic:       </th> <td>   4.005</td>\n",
       "</tr>\n",
       "<tr>\n",
       "  <th>Date:</th>             <td>Thu, 12 May 2022</td> <th>  Prob (F-statistic):</th>  <td> 0.116</td> \n",
       "</tr>\n",
       "<tr>\n",
       "  <th>Time:</th>                 <td>00:30:21</td>     <th>  Log-Likelihood:    </th> <td> -75.377</td>\n",
       "</tr>\n",
       "<tr>\n",
       "  <th>No. Observations:</th>      <td>     6</td>      <th>  AIC:               </th> <td>   154.8</td>\n",
       "</tr>\n",
       "<tr>\n",
       "  <th>Df Residuals:</th>          <td>     4</td>      <th>  BIC:               </th> <td>   154.3</td>\n",
       "</tr>\n",
       "<tr>\n",
       "  <th>Df Model:</th>              <td>     1</td>      <th>                     </th>     <td> </td>   \n",
       "</tr>\n",
       "<tr>\n",
       "  <th>Covariance Type:</th>      <td>nonrobust</td>    <th>                     </th>     <td> </td>   \n",
       "</tr>\n",
       "</table>\n",
       "<table class=\"simpletable\">\n",
       "<tr>\n",
       "      <td></td>         <th>coef</th>     <th>std err</th>      <th>t</th>      <th>P>|t|</th>  <th>[0.025</th>    <th>0.975]</th>  \n",
       "</tr>\n",
       "<tr>\n",
       "  <th>Intercept</th> <td>  2.81e+04</td> <td>  1.4e+05</td> <td>    0.200</td> <td> 0.851</td> <td>-3.61e+05</td> <td> 4.17e+05</td>\n",
       "</tr>\n",
       "<tr>\n",
       "  <th>horas</th>     <td> 9540.4120</td> <td> 4767.441</td> <td>    2.001</td> <td> 0.116</td> <td>-3696.126</td> <td> 2.28e+04</td>\n",
       "</tr>\n",
       "</table>\n",
       "<table class=\"simpletable\">\n",
       "<tr>\n",
       "  <th>Omnibus:</th>       <td>   nan</td> <th>  Durbin-Watson:     </th> <td>   2.230</td>\n",
       "</tr>\n",
       "<tr>\n",
       "  <th>Prob(Omnibus):</th> <td>   nan</td> <th>  Jarque-Bera (JB):  </th> <td>   1.023</td>\n",
       "</tr>\n",
       "<tr>\n",
       "  <th>Skew:</th>          <td>-1.012</td> <th>  Prob(JB):          </th> <td>   0.600</td>\n",
       "</tr>\n",
       "<tr>\n",
       "  <th>Kurtosis:</th>      <td> 2.990</td> <th>  Cond. No.          </th> <td>    119.</td>\n",
       "</tr>\n",
       "</table><br/><br/>Notes:<br/>[1] Standard Errors assume that the covariance matrix of the errors is correctly specified."
      ],
      "text/plain": [
       "<class 'statsmodels.iolib.summary.Summary'>\n",
       "\"\"\"\n",
       "                            OLS Regression Results                            \n",
       "==============================================================================\n",
       "Dep. Variable:                  ganan   R-squared:                       0.500\n",
       "Model:                            OLS   Adj. R-squared:                  0.375\n",
       "Method:                 Least Squares   F-statistic:                     4.005\n",
       "Date:                Thu, 12 May 2022   Prob (F-statistic):              0.116\n",
       "Time:                        00:30:21   Log-Likelihood:                -75.377\n",
       "No. Observations:                   6   AIC:                             154.8\n",
       "Df Residuals:                       4   BIC:                             154.3\n",
       "Df Model:                           1                                         \n",
       "Covariance Type:            nonrobust                                         \n",
       "==============================================================================\n",
       "                 coef    std err          t      P>|t|      [0.025      0.975]\n",
       "------------------------------------------------------------------------------\n",
       "Intercept    2.81e+04    1.4e+05      0.200      0.851   -3.61e+05    4.17e+05\n",
       "horas       9540.4120   4767.441      2.001      0.116   -3696.126    2.28e+04\n",
       "==============================================================================\n",
       "Omnibus:                          nan   Durbin-Watson:                   2.230\n",
       "Prob(Omnibus):                    nan   Jarque-Bera (JB):                1.023\n",
       "Skew:                          -1.012   Prob(JB):                        0.600\n",
       "Kurtosis:                       2.990   Cond. No.                         119.\n",
       "==============================================================================\n",
       "\n",
       "Notes:\n",
       "[1] Standard Errors assume that the covariance matrix of the errors is correctly specified.\n",
       "\"\"\""
      ]
     },
     "execution_count": 65,
     "metadata": {},
     "output_type": "execute_result"
    }
   ],
   "source": [
    "ml.summary()"
   ]
  },
  {
   "cell_type": "code",
   "execution_count": 67,
   "id": "03c5fc8c",
   "metadata": {},
   "outputs": [
    {
     "data": {
      "text/plain": [
       "0    218906.497623\n",
       "1    266608.557845\n",
       "2    237987.321712\n",
       "3    295229.793978\n",
       "4    371553.090333\n",
       "5    409714.738510\n",
       "dtype: float64"
      ]
     },
     "execution_count": 67,
     "metadata": {},
     "output_type": "execute_result"
    }
   ],
   "source": [
    "#Validación matemática\n",
    "\n",
    "prediccion_ganacias = ml.predict(pd.DataFrame(data[\"horas\"]))\n",
    "prediccion_ganacias"
   ]
  },
  {
   "cell_type": "code",
   "execution_count": 68,
   "id": "5076878e",
   "metadata": {},
   "outputs": [],
   "source": [
    "import matplotlib.pyplot as plt"
   ]
  },
  {
   "cell_type": "code",
   "execution_count": 73,
   "id": "1178f025",
   "metadata": {},
   "outputs": [
    {
     "data": {
      "text/plain": [
       "[<matplotlib.lines.Line2D at 0x1f67fc08550>]"
      ]
     },
     "execution_count": 73,
     "metadata": {},
     "output_type": "execute_result"
    },
    {
     "data": {
      "image/png": "[encoded data removed]",
      "text/plain": [
       "<Figure size 432x288 with 1 Axes>"
      ]
     },
     "metadata": {
      "needs_background": "light"
     },
     "output_type": "display_data"
    }
   ],
   "source": [
    "%matplotlib inline\n",
    "data.plot(kind=\"scatter\", x=\"horas\", y=\"ganan\")\n",
    "plt.plot(pd.DataFrame(data[\"horas\"]),prediccion_ganacias, c=\"red\", linewidth=3)"
   ]
  },
  {
   "cell_type": "code",
   "execution_count": 74,
   "id": "b68db5a5",
   "metadata": {},
   "outputs": [],
   "source": [
    "data[\"PrediccionGanciaSimplehoras\"]= 28098.256735 + 9540.412044 * data[\"horas\"]"
   ]
  },
  {
   "cell_type": "code",
   "execution_count": 76,
   "id": "d18814f9",
   "metadata": {},
   "outputs": [
    {
     "data": {
      "text/html": [
       "<div>\n",
       "<style scoped>\n",
       "    .dataframe tbody tr th:only-of-type {\n",
       "        vertical-align: middle;\n",
       "    }\n",
       "\n",
       "    .dataframe tbody tr th {\n",
       "        vertical-align: top;\n",
       "    }\n",
       "\n",
       "    .dataframe thead th {\n",
       "        text-align: right;\n",
       "    }\n",
       "</style>\n",
       "<table border=\"1\" class=\"dataframe\">\n",
       "  <thead>\n",
       "    <tr style=\"text-align: right;\">\n",
       "      <th></th>\n",
       "      <th>semana</th>\n",
       "      <th>horas</th>\n",
       "      <th>ganan</th>\n",
       "      <th>PrediccionGanciaSimplehoras</th>\n",
       "    </tr>\n",
       "  </thead>\n",
       "  <tbody>\n",
       "    <tr>\n",
       "      <th>0</th>\n",
       "      <td>1</td>\n",
       "      <td>20</td>\n",
       "      <td>300000</td>\n",
       "      <td>218906.497615</td>\n",
       "    </tr>\n",
       "    <tr>\n",
       "      <th>1</th>\n",
       "      <td>2</td>\n",
       "      <td>25</td>\n",
       "      <td>310000</td>\n",
       "      <td>266608.557835</td>\n",
       "    </tr>\n",
       "    <tr>\n",
       "      <th>2</th>\n",
       "      <td>3</td>\n",
       "      <td>22</td>\n",
       "      <td>100000</td>\n",
       "      <td>237987.321703</td>\n",
       "    </tr>\n",
       "    <tr>\n",
       "      <th>3</th>\n",
       "      <td>4</td>\n",
       "      <td>28</td>\n",
       "      <td>320000</td>\n",
       "      <td>295229.793967</td>\n",
       "    </tr>\n",
       "    <tr>\n",
       "      <th>4</th>\n",
       "      <td>5</td>\n",
       "      <td>36</td>\n",
       "      <td>350000</td>\n",
       "      <td>371553.090319</td>\n",
       "    </tr>\n",
       "    <tr>\n",
       "      <th>5</th>\n",
       "      <td>6</td>\n",
       "      <td>40</td>\n",
       "      <td>420000</td>\n",
       "      <td>409714.738495</td>\n",
       "    </tr>\n",
       "  </tbody>\n",
       "</table>\n",
       "</div>"
      ],
      "text/plain": [
       "   semana  horas   ganan  PrediccionGanciaSimplehoras\n",
       "0       1     20  300000                218906.497615\n",
       "1       2     25  310000                266608.557835\n",
       "2       3     22  100000                237987.321703\n",
       "3       4     28  320000                295229.793967\n",
       "4       5     36  350000                371553.090319\n",
       "5       6     40  420000                409714.738495"
      ]
     },
     "execution_count": 76,
     "metadata": {},
     "output_type": "execute_result"
    }
   ],
   "source": [
    "data.head(6)"
   ]
  },
  {
   "cell_type": "code",
   "execution_count": null,
   "id": "cad4542b",
   "metadata": {},
   "outputs": [],
   "source": []
  }
 ],
 "metadata": {
  "kernelspec": {
   "display_name": "Python 3 (ipykernel)",
   "language": "python",
   "name": "python3"
  },
  "language_info": {
   "codemirror_mode": {
    "name": "ipython",
    "version": 3
   },
   "file_extension": ".py",
   "mimetype": "text/x-python",
   "name": "python",
   "nbconvert_exporter": "python",
   "pygments_lexer": "ipython3",
   "version": "3.9.7"
  }
 },
 "nbformat": 4,
 "nbformat_minor": 5
}
